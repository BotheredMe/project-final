{
 "cells": [
  {
   "cell_type": "code",
   "execution_count": 1,
   "metadata": {
    "slideshow": {
     "slide_type": "subslide"
    }
   },
   "outputs": [],
   "source": [
    "# dependencies\n",
    "import pandas as pd\n"
   ]
  },
  {
   "cell_type": "code",
   "execution_count": 2,
   "metadata": {
    "slideshow": {
     "slide_type": "fragment"
    }
   },
   "outputs": [
    {
     "data": {
      "text/html": [
       "<div>\n",
       "<style scoped>\n",
       "    .dataframe tbody tr th:only-of-type {\n",
       "        vertical-align: middle;\n",
       "    }\n",
       "\n",
       "    .dataframe tbody tr th {\n",
       "        vertical-align: top;\n",
       "    }\n",
       "\n",
       "    .dataframe thead th {\n",
       "        text-align: right;\n",
       "    }\n",
       "</style>\n",
       "<table border=\"1\" class=\"dataframe\">\n",
       "  <thead>\n",
       "    <tr style=\"text-align: right;\">\n",
       "      <th></th>\n",
       "      <th>Unnamed: 0</th>\n",
       "      <th>genre</th>\n",
       "      <th>artist</th>\n",
       "      <th>song</th>\n",
       "      <th>lyrics</th>\n",
       "      <th>wordcount</th>\n",
       "      <th>nostopwordcount</th>\n",
       "      <th>positivewordcount</th>\n",
       "      <th>positivepercents</th>\n",
       "      <th>negativewordcount</th>\n",
       "      <th>negativepercents</th>\n",
       "      <th>neutralwordcount</th>\n",
       "      <th>neutralpercents</th>\n",
       "    </tr>\n",
       "  </thead>\n",
       "  <tbody>\n",
       "    <tr>\n",
       "      <td>0</td>\n",
       "      <td>0</td>\n",
       "      <td>Christian</td>\n",
       "      <td>Glory Revealed</td>\n",
       "      <td>By His Wounds</td>\n",
       "      <td>glory revealed by his wounds he was pierced fo...</td>\n",
       "      <td>205</td>\n",
       "      <td>79</td>\n",
       "      <td>7</td>\n",
       "      <td>8.86</td>\n",
       "      <td>16</td>\n",
       "      <td>20.25</td>\n",
       "      <td>56</td>\n",
       "      <td>70.89</td>\n",
       "    </tr>\n",
       "    <tr>\n",
       "      <td>1</td>\n",
       "      <td>1</td>\n",
       "      <td>Christian</td>\n",
       "      <td>Caedmon's Call</td>\n",
       "      <td>God of Wonders</td>\n",
       "      <td>lord of heaven and earth lord of all creation ...</td>\n",
       "      <td>217</td>\n",
       "      <td>116</td>\n",
       "      <td>39</td>\n",
       "      <td>33.62</td>\n",
       "      <td>2</td>\n",
       "      <td>1.72</td>\n",
       "      <td>75</td>\n",
       "      <td>64.66</td>\n",
       "    </tr>\n",
       "    <tr>\n",
       "      <td>2</td>\n",
       "      <td>2</td>\n",
       "      <td>Christian</td>\n",
       "      <td>MercyMe</td>\n",
       "      <td>I Can Only Imagine</td>\n",
       "      <td>i can only imagine what it will be like when i...</td>\n",
       "      <td>275</td>\n",
       "      <td>89</td>\n",
       "      <td>7</td>\n",
       "      <td>7.87</td>\n",
       "      <td>3</td>\n",
       "      <td>3.37</td>\n",
       "      <td>79</td>\n",
       "      <td>88.76</td>\n",
       "    </tr>\n",
       "    <tr>\n",
       "      <td>3</td>\n",
       "      <td>3</td>\n",
       "      <td>Christian</td>\n",
       "      <td>Aaron Shust</td>\n",
       "      <td>My Savior My God</td>\n",
       "      <td>i am not skilled to understand what god has wi...</td>\n",
       "      <td>371</td>\n",
       "      <td>173</td>\n",
       "      <td>39</td>\n",
       "      <td>22.54</td>\n",
       "      <td>9</td>\n",
       "      <td>5.20</td>\n",
       "      <td>125</td>\n",
       "      <td>72.25</td>\n",
       "    </tr>\n",
       "    <tr>\n",
       "      <td>4</td>\n",
       "      <td>4</td>\n",
       "      <td>Christian</td>\n",
       "      <td>Michael W. Smith</td>\n",
       "      <td>Breathe</td>\n",
       "      <td>this is the air i breathe this is the air i br...</td>\n",
       "      <td>198</td>\n",
       "      <td>92</td>\n",
       "      <td>3</td>\n",
       "      <td>3.26</td>\n",
       "      <td>23</td>\n",
       "      <td>25.00</td>\n",
       "      <td>66</td>\n",
       "      <td>71.74</td>\n",
       "    </tr>\n",
       "  </tbody>\n",
       "</table>\n",
       "</div>"
      ],
      "text/plain": [
       "   Unnamed: 0      genre            artist                song  \\\n",
       "0           0  Christian    Glory Revealed       By His Wounds   \n",
       "1           1  Christian    Caedmon's Call      God of Wonders   \n",
       "2           2  Christian           MercyMe  I Can Only Imagine   \n",
       "3           3  Christian       Aaron Shust    My Savior My God   \n",
       "4           4  Christian  Michael W. Smith             Breathe   \n",
       "\n",
       "                                              lyrics  wordcount  \\\n",
       "0  glory revealed by his wounds he was pierced fo...        205   \n",
       "1  lord of heaven and earth lord of all creation ...        217   \n",
       "2  i can only imagine what it will be like when i...        275   \n",
       "3  i am not skilled to understand what god has wi...        371   \n",
       "4  this is the air i breathe this is the air i br...        198   \n",
       "\n",
       "   nostopwordcount  positivewordcount  positivepercents  negativewordcount  \\\n",
       "0               79                  7              8.86                 16   \n",
       "1              116                 39             33.62                  2   \n",
       "2               89                  7              7.87                  3   \n",
       "3              173                 39             22.54                  9   \n",
       "4               92                  3              3.26                 23   \n",
       "\n",
       "   negativepercents  neutralwordcount  neutralpercents  \n",
       "0             20.25                56            70.89  \n",
       "1              1.72                75            64.66  \n",
       "2              3.37                79            88.76  \n",
       "3              5.20               125            72.25  \n",
       "4             25.00                66            71.74  "
      ]
     },
     "execution_count": 2,
     "metadata": {},
     "output_type": "execute_result"
    }
   ],
   "source": [
    "# Read in CSV that has data for modeling\n",
    "df = pd.read_csv(\"lyrics.csv\")\n",
    "# Drop the null columns where all values are null\n",
    "df = df.dropna(axis='columns', how='all')\n",
    "# Drop the null rows\n",
    "df = df.dropna()\n",
    "df.head()"
   ]
  },
  {
   "cell_type": "code",
   "execution_count": 3,
   "metadata": {
    "nbgrader": {
     "grade": false,
     "grade_id": "cell-86a9e3212f200d21",
     "locked": false,
     "schema_version": 1,
     "solution": true
    },
    "slideshow": {
     "slide_type": "subslide"
    }
   },
   "outputs": [
    {
     "name": "stdout",
     "output_type": "stream",
     "text": [
      "(453, 8) (453,)\n"
     ]
    }
   ],
   "source": [
    "# Set features. This will also be used as your x values.\n",
    "X = df[['wordcount','nostopwordcount','positivewordcount','positivepercents','negativewordcount','negativepercents','neutralwordcount','neutralpercents']]\n",
    "# Choosing data that will be used for Y value\n",
    "y = df['genre']\n",
    "print(X.shape, y.shape)"
   ]
  },
  {
   "cell_type": "code",
   "execution_count": 4,
   "metadata": {
    "nbgrader": {
     "grade": false,
     "grade_id": "cell-711a82d9b32c83ff",
     "locked": false,
     "schema_version": 1,
     "solution": true
    },
    "slideshow": {
     "slide_type": "fragment"
    }
   },
   "outputs": [],
   "source": [
    "# Splitting data for testing\n",
    "from sklearn.model_selection import train_test_split\n",
    "\n",
    "X_train, X_test, y_train, y_test = train_test_split(X, y, random_state=1, stratify=y)"
   ]
  },
  {
   "cell_type": "code",
   "execution_count": 5,
   "metadata": {
    "nbgrader": {
     "grade": false,
     "grade_id": "cell-b83ce1d2dcf17fbd",
     "locked": false,
     "schema_version": 1,
     "solution": true
    },
    "slideshow": {
     "slide_type": "fragment"
    }
   },
   "outputs": [
    {
     "data": {
      "text/plain": [
       "LogisticRegression(C=1.0, class_weight=None, dual=False, fit_intercept=True,\n",
       "                   intercept_scaling=1, l1_ratio=None, max_iter=100,\n",
       "                   multi_class='warn', n_jobs=None, penalty='l2',\n",
       "                   random_state=None, solver='warn', tol=0.0001, verbose=0,\n",
       "                   warm_start=False)"
      ]
     },
     "execution_count": 5,
     "metadata": {},
     "output_type": "execute_result"
    }
   ],
   "source": [
    "#set up Logistic Regression Model\n",
    "from sklearn.linear_model import LogisticRegression\n",
    "classifier = LogisticRegression()\n",
    "classifier"
   ]
  },
  {
   "cell_type": "markdown",
   "metadata": {
    "slideshow": {
     "slide_type": "subslide"
    }
   },
   "source": [
    "Fit (train) or model using the training data"
   ]
  },
  {
   "cell_type": "code",
   "execution_count": 6,
   "metadata": {
    "nbgrader": {
     "grade": false,
     "grade_id": "cell-fa6356c0ca7e4ead",
     "locked": false,
     "schema_version": 1,
     "solution": true
    },
    "scrolled": true,
    "slideshow": {
     "slide_type": "fragment"
    }
   },
   "outputs": [
    {
     "name": "stderr",
     "output_type": "stream",
     "text": [
      "C:\\Users\\Bothered\\Anaconda3\\lib\\site-packages\\sklearn\\linear_model\\logistic.py:432: FutureWarning: Default solver will be changed to 'lbfgs' in 0.22. Specify a solver to silence this warning.\n",
      "  FutureWarning)\n",
      "C:\\Users\\Bothered\\Anaconda3\\lib\\site-packages\\sklearn\\linear_model\\logistic.py:469: FutureWarning: Default multi_class will be changed to 'auto' in 0.22. Specify the multi_class option to silence this warning.\n",
      "  \"this warning.\", FutureWarning)\n"
     ]
    },
    {
     "data": {
      "text/plain": [
       "LogisticRegression(C=1.0, class_weight=None, dual=False, fit_intercept=True,\n",
       "                   intercept_scaling=1, l1_ratio=None, max_iter=100,\n",
       "                   multi_class='warn', n_jobs=None, penalty='l2',\n",
       "                   random_state=None, solver='warn', tol=0.0001, verbose=0,\n",
       "                   warm_start=False)"
      ]
     },
     "execution_count": 6,
     "metadata": {},
     "output_type": "execute_result"
    }
   ],
   "source": [
    "# Fit data to model\n",
    "classifier.fit(X_train, y_train)"
   ]
  },
  {
   "cell_type": "code",
   "execution_count": 7,
   "metadata": {
    "nbgrader": {
     "grade": false,
     "grade_id": "cell-b00f331fda900e0a",
     "locked": false,
     "schema_version": 1,
     "solution": true
    },
    "slideshow": {
     "slide_type": "fragment"
    }
   },
   "outputs": [
    {
     "name": "stdout",
     "output_type": "stream",
     "text": [
      "Training Data Score: 0.5221238938053098\n",
      "Testing Data Score: 0.5263157894736842\n"
     ]
    }
   ],
   "source": [
    "# Validate the model using the test data\n",
    "print(f\"Training Data Score: {classifier.score(X_train, y_train)}\")\n",
    "print(f\"Testing Data Score: {classifier.score(X_test, y_test)}\")"
   ]
  },
  {
   "cell_type": "code",
   "execution_count": 8,
   "metadata": {
    "nbgrader": {
     "grade": false,
     "grade_id": "cell-f97eb3e97245187b",
     "locked": false,
     "schema_version": 1,
     "solution": true
    },
    "slideshow": {
     "slide_type": "fragment"
    }
   },
   "outputs": [
    {
     "name": "stdout",
     "output_type": "stream",
     "text": [
      "First 10 Predictions:   ['Rhythm and Blues' 'Rock' 'Christian' 'Rhythm and Blues' 'Christian'\n",
      " 'Hip Hop/Rap' 'Hip Hop/Rap' 'Christian' 'Hip Hop/Rap' 'Rock']\n",
      "First 10 Actual labels: ['Country', 'Rock', 'Rhythm and Blues', 'Rock', 'Country', 'Hip Hop/Rap', 'Hip Hop/Rap', 'Christian', 'Hip Hop/Rap', 'Rhythm and Blues']\n"
     ]
    }
   ],
   "source": [
    "# Test predictions\n",
    "predictions = classifier.predict(X_test)\n",
    "print(f\"First 10 Predictions:   {predictions[:10]}\")\n",
    "print(f\"First 10 Actual labels: {y_test[:10].tolist()}\")"
   ]
  },
  {
   "cell_type": "code",
   "execution_count": 17,
   "metadata": {},
   "outputs": [
    {
     "name": "stdout",
     "output_type": "stream",
     "text": [
      "i'm the mother flippin' rhymenocerous\n",
      "my beats are fat\n",
      "and the birds are on my back\n",
      "and i'm horny, i'm horny\n",
      "if you choose to proceed\n",
      "you will indeed concede\n",
      "'cause i hit you with my flow\n",
      "the wild rhino stampede\n",
      "i'm not just wild, i'm trained, domesticated\n",
      "i was raised by a rapper and rhino that dated\n",
      "and subsequently procreated\n",
      "that's how it goes\n",
      "here's the hiphopopotamus\n",
      "the hip hop hippo\n",
      "they call me the hiphopopotamus\n",
      "my lyrics are bottomless\n",
      "sometimes our rhymes are polite\n",
      "like, thank you for the dinner ms. right\n",
      "that was very delicious goodnight\n",
      "sometimes they are obscene\n",
      "like a pornographic dream\n",
      "nc-17 with ladies in a stream of margarine\n",
      "ha-ha-ha-ha, yeah, some margarine\n",
      "they call me the hiphopopotamus\n",
      "flows that glow like phosphorous\n",
      "poppin' off the top of this esophagus\n",
      "rockin' this metropolis\n",
      "i'm not a large water-dwelling mammal\n",
      "where did you get that preposterous hypothesis?\n",
      "did steve tell you that, perchance?\n",
      "steve\n",
      "my rhymes and records, they don't get played\n",
      "because my records and rhymes, they don't get made\n",
      "and if you rap like me, you don't get paid\n",
      "and if you roll like me, you don't get laid\n",
      "my rhymes are so potent that in this small segment\n",
      "i made all of the ladies in the area pregnant\n",
      "yes, sometimes my lyrics are sexist\n",
      "but you lovely bitches and hoes should know\n",
      "i'm trying to correct this\n",
      "other rappers diss me\n",
      "say my rhymes are sissy\n",
      "why? why? why? what?\n",
      "why exactly?\n",
      "what? why?\n",
      "be more constructive\n",
      "with your feedback, please\n",
      "why? why?\n",
      "why? 'cause i rap about reality\n",
      "like me and my grandma drinkin' a cup of tea\n",
      "there ain't no party like my nana's tea party\n",
      "hey, ho\n",
      "i'm the motherflippin'\n",
      "i'm the motherflippin'\n",
      "i'm the motherflippin'\n",
      "who's the motherflippin?\n",
      "i'm the motherflippin'\n",
      "i'm the motherflippin'\n",
      "i'm the motherflippin'\n",
      "motherflippin\n"
     ]
    }
   ],
   "source": [
    " # Test model with new data\n",
    "from Models import worddata\n",
    "text ='''They say sometimes you win some\n",
    "Sometimes you lose some\n",
    "And right now, right now I'm losing bad\n",
    "I've stood on this stage night after night\n",
    "Reminding the broken it'll be alright\n",
    "But right now, oh right now I just can't\n",
    "\n",
    "It's easy to sing\n",
    "When there's nothing to bring me down\n",
    "But what will I say\n",
    "When I'm held to the flame\n",
    "Like I am right now\n",
    "\n",
    "I know You're able and I know You can\n",
    "Save through the fire with Your mighty hand\n",
    "But even if You don't\n",
    "My hope is You alone\n",
    "\n",
    "They say it only takes a little faith\n",
    "To move a mountain\n",
    "Good thing\n",
    "A little faith is all I have right now\n",
    "But God, when You choose\n",
    "To leave mountains unmovable\n",
    "Give me the strength to be able to sing\n",
    "It is well with my soul\n",
    "\n",
    "I know You're able and I know You can\n",
    "Save through the fire with Your mighty hand\n",
    "But even if You don't\n",
    "My hope is You alone\n",
    "I know the sorrow, and I know the hurt\n",
    "Would all go away if You'd just say the word\n",
    "But even if You don't\n",
    "My hope is You alone\n",
    "\n",
    "You've been faithful, You've been good\n",
    "All of my days\n",
    "Jesus, I will cling to You\n",
    "Come what may\n",
    "‘Cause I know You're able\n",
    "I know You can\n",
    "\n",
    "I know You're able and I know You can\n",
    "Save through the fire with Your mighty hand\n",
    "But even if You don't\n",
    "My hope is You alone\n",
    "I know the sorrow, and I know the hurt\n",
    "Would all go away if You'd just say the word\n",
    "But even if You don't\n",
    "My hope is You alone\n",
    "\n",
    "It is well with my soul\n",
    "It is well, it is well with my soul'''\n",
    "processed_text = text.lower()\n",
    "print(processed_text)\n",
    "words = worddata.word_calcs(processed_text)\n",
    "wordcount = words.wordcount()\n",
    "nostopwordcount = words.nostopwordcount()\n",
    "positivewordcount = words.positivewordcount()\n",
    "positivepercent = round(positivewordcount/nostopwordcount*100,2)\n",
    "negativewordcount = words.negativewordcount()\n",
    "negativepercent = round(negativewordcount/nostopwordcount*100,2)   \n",
    "neutralwordcount = words.negativewordcount()\n",
    "neutralpercent = round(neutralwordcount/nostopwordcount*100,2)\n",
    "stats = [wordcount,nostopwordcount,positivewordcount,positivepercent,negativewordcount,negativepercent,neutralwordcount,neutralpercent]"
   ]
  },
  {
   "cell_type": "code",
   "execution_count": 18,
   "metadata": {
    "scrolled": true
   },
   "outputs": [
    {
     "name": "stdout",
     "output_type": "stream",
     "text": [
      "['Hip Hop/Rap']\n"
     ]
    }
   ],
   "source": [
    "print(classifier.predict([stats]))"
   ]
  },
  {
   "cell_type": "code",
   "execution_count": 19,
   "metadata": {
    "scrolled": true
   },
   "outputs": [
    {
     "name": "stderr",
     "output_type": "stream",
     "text": [
      "C:\\Users\\Bothered\\Anaconda3\\lib\\site-packages\\sklearn\\linear_model\\logistic.py:432: FutureWarning: Default solver will be changed to 'lbfgs' in 0.22. Specify a solver to silence this warning.\n",
      "  FutureWarning)\n",
      "C:\\Users\\Bothered\\Anaconda3\\lib\\site-packages\\sklearn\\linear_model\\logistic.py:469: FutureWarning: Default multi_class will be changed to 'auto' in 0.22. Specify the multi_class option to silence this warning.\n",
      "  \"this warning.\", FutureWarning)\n"
     ]
    },
    {
     "data": {
      "text/plain": [
       "['genre_guesser.sav']"
      ]
     },
     "execution_count": 19,
     "metadata": {},
     "output_type": "execute_result"
    }
   ],
   "source": [
    "# Save model\n",
    "import joblib\n",
    "your_model = classifier.fit(X_train, y_train)\n",
    "filename = 'genre_guesser.sav'\n",
    "joblib.dump(your_model, filename)"
   ]
  },
  {
   "cell_type": "code",
   "execution_count": null,
   "metadata": {},
   "outputs": [],
   "source": []
  }
 ],
 "metadata": {
  "kernelspec": {
   "display_name": "Python 3",
   "language": "python",
   "name": "python3"
  },
  "language_info": {
   "codemirror_mode": {
    "name": "ipython",
    "version": 3
   },
   "file_extension": ".py",
   "mimetype": "text/x-python",
   "name": "python",
   "nbconvert_exporter": "python",
   "pygments_lexer": "ipython3",
   "version": "3.7.4"
  },
  "varInspector": {
   "cols": {
    "lenName": 16,
    "lenType": 16,
    "lenVar": 40
   },
   "kernels_config": {
    "python": {
     "delete_cmd_postfix": "",
     "delete_cmd_prefix": "del ",
     "library": "var_list.py",
     "varRefreshCmd": "print(var_dic_list())"
    },
    "r": {
     "delete_cmd_postfix": ") ",
     "delete_cmd_prefix": "rm(",
     "library": "var_list.r",
     "varRefreshCmd": "cat(var_dic_list()) "
    }
   },
   "types_to_exclude": [
    "module",
    "function",
    "builtin_function_or_method",
    "instance",
    "_Feature"
   ],
   "window_display": false
  }
 },
 "nbformat": 4,
 "nbformat_minor": 2
}
